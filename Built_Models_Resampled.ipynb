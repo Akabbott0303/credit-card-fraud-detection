{
 "cells": [
  {
   "cell_type": "markdown",
   "id": "a88b5f18-95ab-4b99-ba2b-9d7b89a2b498",
   "metadata": {},
   "source": [
    "# Five Models for Classifying Credit Card Fraud"
   ]
  },
  {
   "cell_type": "markdown",
   "id": "31075804-b12b-4761-bb61-0d785552a1ae",
   "metadata": {},
   "source": [
    "This notebook contains code for building five classifier models used to predict credit card fraud.  The data set used is the [Credit Card Fraud Detection dataset](https://www.kaggle.com/mlg-ulb/creditcardfraud) from Kaggle, which contains 284,807 credit card transactions made in September 2013 by credit cardholders.  Of the 284,807 transactions, 492 (0.172%) are fraudulent.  The dataset consists of 31 columns of numerical data.  Three of the columns are time (number of seconds between the first transaction in the dataset and the current transaction), amount of transaction, and class (1 = fraudulent; 0 = not fraudulent).  The remaining columns are designated as V1, V2, etc.  The variables in these columns were obtained using Principal Component Analysis (PCA) to transform data about each transaction.  We do not know what the original data features are because that information is confidential.\n",
    "\n",
    "The models built with this notebook are:\n",
    "1. Decision Tree\n",
    "2. Gradient Boosting\n",
    "3. Random Forest\n",
    "4. Bagging Classifier\n",
    "4. XGBoost\n",
    "\n",
    "Model building and analysis of each model are done with the scikit-learn library."
   ]
  },
  {
   "cell_type": "code",
   "execution_count": 1,
   "id": "47bf6b71-147f-40bb-89e2-00dd9fb0f20f",
   "metadata": {},
   "outputs": [],
   "source": [
    "# Initial imports\n",
    "import numpy as np\n",
    "import pandas as pd\n",
    "from pathlib import Path\n",
    "from collections import Counter\n",
    "\n",
    "from sklearn import tree\n",
    "from sklearn.preprocessing import RobustScaler\n",
    "from sklearn.model_selection import train_test_split\n",
    "from sklearn.metrics import confusion_matrix, ConfusionMatrixDisplay\n",
    "from sklearn.metrics import accuracy_score, balanced_accuracy_score, roc_auc_score\n",
    "from sklearn.metrics import classification_report\n",
    "from sklearn.metrics import PrecisionRecallDisplay\n",
    "from sklearn.metrics import roc_curve, auc\n",
    "from sklearn.metrics import RocCurveDisplay\n",
    "from sklearn.ensemble import GradientBoostingClassifier\n",
    "from sklearn.ensemble import RandomForestClassifier\n",
    "from sklearn.svm import SVC\n",
    "from sklearn.ensemble import BaggingClassifier\n",
    "\n",
    "from imblearn.combine import SMOTEENN\n",
    "from imblearn.metrics import classification_report_imbalanced\n",
    "\n",
    "from xgboost import XGBClassifier \n",
    "\n",
    "import matplotlib.pyplot as plt\n",
    "%matplotlib inline\n",
    "\n",
    "# Needed for decision tree visualization\n",
    "import pydotplus\n",
    "from IPython.display import Image"
   ]
  },
  {
   "cell_type": "code",
   "execution_count": 2,
   "id": "1d30f41d-3838-4497-9ff5-e9a847de50b8",
   "metadata": {},
   "outputs": [
    {
     "data": {
      "text/html": [
       "<div>\n",
       "<style scoped>\n",
       "    .dataframe tbody tr th:only-of-type {\n",
       "        vertical-align: middle;\n",
       "    }\n",
       "\n",
       "    .dataframe tbody tr th {\n",
       "        vertical-align: top;\n",
       "    }\n",
       "\n",
       "    .dataframe thead th {\n",
       "        text-align: right;\n",
       "    }\n",
       "</style>\n",
       "<table border=\"1\" class=\"dataframe\">\n",
       "  <thead>\n",
       "    <tr style=\"text-align: right;\">\n",
       "      <th></th>\n",
       "      <th>Time</th>\n",
       "      <th>V1</th>\n",
       "      <th>V2</th>\n",
       "      <th>V3</th>\n",
       "      <th>V4</th>\n",
       "      <th>V5</th>\n",
       "      <th>V6</th>\n",
       "      <th>V7</th>\n",
       "      <th>V8</th>\n",
       "      <th>V9</th>\n",
       "      <th>...</th>\n",
       "      <th>V21</th>\n",
       "      <th>V22</th>\n",
       "      <th>V23</th>\n",
       "      <th>V24</th>\n",
       "      <th>V25</th>\n",
       "      <th>V26</th>\n",
       "      <th>V27</th>\n",
       "      <th>V28</th>\n",
       "      <th>Amount</th>\n",
       "      <th>Class</th>\n",
       "    </tr>\n",
       "  </thead>\n",
       "  <tbody>\n",
       "    <tr>\n",
       "      <th>0</th>\n",
       "      <td>0.0</td>\n",
       "      <td>-1.359807</td>\n",
       "      <td>-0.072781</td>\n",
       "      <td>2.536347</td>\n",
       "      <td>1.378155</td>\n",
       "      <td>-0.338321</td>\n",
       "      <td>0.462388</td>\n",
       "      <td>0.239599</td>\n",
       "      <td>0.098698</td>\n",
       "      <td>0.363787</td>\n",
       "      <td>...</td>\n",
       "      <td>-0.018307</td>\n",
       "      <td>0.277838</td>\n",
       "      <td>-0.110474</td>\n",
       "      <td>0.066928</td>\n",
       "      <td>0.128539</td>\n",
       "      <td>-0.189115</td>\n",
       "      <td>0.133558</td>\n",
       "      <td>-0.021053</td>\n",
       "      <td>149.62</td>\n",
       "      <td>0</td>\n",
       "    </tr>\n",
       "    <tr>\n",
       "      <th>1</th>\n",
       "      <td>0.0</td>\n",
       "      <td>1.191857</td>\n",
       "      <td>0.266151</td>\n",
       "      <td>0.166480</td>\n",
       "      <td>0.448154</td>\n",
       "      <td>0.060018</td>\n",
       "      <td>-0.082361</td>\n",
       "      <td>-0.078803</td>\n",
       "      <td>0.085102</td>\n",
       "      <td>-0.255425</td>\n",
       "      <td>...</td>\n",
       "      <td>-0.225775</td>\n",
       "      <td>-0.638672</td>\n",
       "      <td>0.101288</td>\n",
       "      <td>-0.339846</td>\n",
       "      <td>0.167170</td>\n",
       "      <td>0.125895</td>\n",
       "      <td>-0.008983</td>\n",
       "      <td>0.014724</td>\n",
       "      <td>2.69</td>\n",
       "      <td>0</td>\n",
       "    </tr>\n",
       "    <tr>\n",
       "      <th>2</th>\n",
       "      <td>1.0</td>\n",
       "      <td>-1.358354</td>\n",
       "      <td>-1.340163</td>\n",
       "      <td>1.773209</td>\n",
       "      <td>0.379780</td>\n",
       "      <td>-0.503198</td>\n",
       "      <td>1.800499</td>\n",
       "      <td>0.791461</td>\n",
       "      <td>0.247676</td>\n",
       "      <td>-1.514654</td>\n",
       "      <td>...</td>\n",
       "      <td>0.247998</td>\n",
       "      <td>0.771679</td>\n",
       "      <td>0.909412</td>\n",
       "      <td>-0.689281</td>\n",
       "      <td>-0.327642</td>\n",
       "      <td>-0.139097</td>\n",
       "      <td>-0.055353</td>\n",
       "      <td>-0.059752</td>\n",
       "      <td>378.66</td>\n",
       "      <td>0</td>\n",
       "    </tr>\n",
       "    <tr>\n",
       "      <th>3</th>\n",
       "      <td>1.0</td>\n",
       "      <td>-0.966272</td>\n",
       "      <td>-0.185226</td>\n",
       "      <td>1.792993</td>\n",
       "      <td>-0.863291</td>\n",
       "      <td>-0.010309</td>\n",
       "      <td>1.247203</td>\n",
       "      <td>0.237609</td>\n",
       "      <td>0.377436</td>\n",
       "      <td>-1.387024</td>\n",
       "      <td>...</td>\n",
       "      <td>-0.108300</td>\n",
       "      <td>0.005274</td>\n",
       "      <td>-0.190321</td>\n",
       "      <td>-1.175575</td>\n",
       "      <td>0.647376</td>\n",
       "      <td>-0.221929</td>\n",
       "      <td>0.062723</td>\n",
       "      <td>0.061458</td>\n",
       "      <td>123.50</td>\n",
       "      <td>0</td>\n",
       "    </tr>\n",
       "    <tr>\n",
       "      <th>4</th>\n",
       "      <td>2.0</td>\n",
       "      <td>-1.158233</td>\n",
       "      <td>0.877737</td>\n",
       "      <td>1.548718</td>\n",
       "      <td>0.403034</td>\n",
       "      <td>-0.407193</td>\n",
       "      <td>0.095921</td>\n",
       "      <td>0.592941</td>\n",
       "      <td>-0.270533</td>\n",
       "      <td>0.817739</td>\n",
       "      <td>...</td>\n",
       "      <td>-0.009431</td>\n",
       "      <td>0.798278</td>\n",
       "      <td>-0.137458</td>\n",
       "      <td>0.141267</td>\n",
       "      <td>-0.206010</td>\n",
       "      <td>0.502292</td>\n",
       "      <td>0.219422</td>\n",
       "      <td>0.215153</td>\n",
       "      <td>69.99</td>\n",
       "      <td>0</td>\n",
       "    </tr>\n",
       "  </tbody>\n",
       "</table>\n",
       "<p>5 rows × 31 columns</p>\n",
       "</div>"
      ],
      "text/plain": [
       "   Time        V1        V2        V3        V4        V5        V6        V7  \\\n",
       "0   0.0 -1.359807 -0.072781  2.536347  1.378155 -0.338321  0.462388  0.239599   \n",
       "1   0.0  1.191857  0.266151  0.166480  0.448154  0.060018 -0.082361 -0.078803   \n",
       "2   1.0 -1.358354 -1.340163  1.773209  0.379780 -0.503198  1.800499  0.791461   \n",
       "3   1.0 -0.966272 -0.185226  1.792993 -0.863291 -0.010309  1.247203  0.237609   \n",
       "4   2.0 -1.158233  0.877737  1.548718  0.403034 -0.407193  0.095921  0.592941   \n",
       "\n",
       "         V8        V9  ...       V21       V22       V23       V24       V25  \\\n",
       "0  0.098698  0.363787  ... -0.018307  0.277838 -0.110474  0.066928  0.128539   \n",
       "1  0.085102 -0.255425  ... -0.225775 -0.638672  0.101288 -0.339846  0.167170   \n",
       "2  0.247676 -1.514654  ...  0.247998  0.771679  0.909412 -0.689281 -0.327642   \n",
       "3  0.377436 -1.387024  ... -0.108300  0.005274 -0.190321 -1.175575  0.647376   \n",
       "4 -0.270533  0.817739  ... -0.009431  0.798278 -0.137458  0.141267 -0.206010   \n",
       "\n",
       "        V26       V27       V28  Amount  Class  \n",
       "0 -0.189115  0.133558 -0.021053  149.62      0  \n",
       "1  0.125895 -0.008983  0.014724    2.69      0  \n",
       "2 -0.139097 -0.055353 -0.059752  378.66      0  \n",
       "3 -0.221929  0.062723  0.061458  123.50      0  \n",
       "4  0.502292  0.219422  0.215153   69.99      0  \n",
       "\n",
       "[5 rows x 31 columns]"
      ]
     },
     "execution_count": 2,
     "metadata": {},
     "output_type": "execute_result"
    }
   ],
   "source": [
    "# Load Credit Card Fraud Detection Dataset into a DataFrame\n",
    "df_fraud = pd.read_csv(Path('..\\Resources\\creditcard.csv'))\n",
    "df_fraud.head()"
   ]
  },
  {
   "cell_type": "code",
   "execution_count": 3,
   "id": "8c5aad9e-4807-49cc-9589-8cbeca8eea17",
   "metadata": {},
   "outputs": [
    {
     "data": {
      "text/html": [
       "<div>\n",
       "<style scoped>\n",
       "    .dataframe tbody tr th:only-of-type {\n",
       "        vertical-align: middle;\n",
       "    }\n",
       "\n",
       "    .dataframe tbody tr th {\n",
       "        vertical-align: top;\n",
       "    }\n",
       "\n",
       "    .dataframe thead th {\n",
       "        text-align: right;\n",
       "    }\n",
       "</style>\n",
       "<table border=\"1\" class=\"dataframe\">\n",
       "  <thead>\n",
       "    <tr style=\"text-align: right;\">\n",
       "      <th></th>\n",
       "      <th>Time</th>\n",
       "      <th>V1</th>\n",
       "      <th>V2</th>\n",
       "      <th>V3</th>\n",
       "      <th>V4</th>\n",
       "      <th>V5</th>\n",
       "      <th>V6</th>\n",
       "      <th>V7</th>\n",
       "      <th>V8</th>\n",
       "      <th>V9</th>\n",
       "      <th>...</th>\n",
       "      <th>V20</th>\n",
       "      <th>V21</th>\n",
       "      <th>V22</th>\n",
       "      <th>V23</th>\n",
       "      <th>V24</th>\n",
       "      <th>V25</th>\n",
       "      <th>V26</th>\n",
       "      <th>V27</th>\n",
       "      <th>V28</th>\n",
       "      <th>Amount</th>\n",
       "    </tr>\n",
       "  </thead>\n",
       "  <tbody>\n",
       "    <tr>\n",
       "      <th>0</th>\n",
       "      <td>0.0</td>\n",
       "      <td>-1.359807</td>\n",
       "      <td>-0.072781</td>\n",
       "      <td>2.536347</td>\n",
       "      <td>1.378155</td>\n",
       "      <td>-0.338321</td>\n",
       "      <td>0.462388</td>\n",
       "      <td>0.239599</td>\n",
       "      <td>0.098698</td>\n",
       "      <td>0.363787</td>\n",
       "      <td>...</td>\n",
       "      <td>0.251412</td>\n",
       "      <td>-0.018307</td>\n",
       "      <td>0.277838</td>\n",
       "      <td>-0.110474</td>\n",
       "      <td>0.066928</td>\n",
       "      <td>0.128539</td>\n",
       "      <td>-0.189115</td>\n",
       "      <td>0.133558</td>\n",
       "      <td>-0.021053</td>\n",
       "      <td>149.62</td>\n",
       "    </tr>\n",
       "    <tr>\n",
       "      <th>1</th>\n",
       "      <td>0.0</td>\n",
       "      <td>1.191857</td>\n",
       "      <td>0.266151</td>\n",
       "      <td>0.166480</td>\n",
       "      <td>0.448154</td>\n",
       "      <td>0.060018</td>\n",
       "      <td>-0.082361</td>\n",
       "      <td>-0.078803</td>\n",
       "      <td>0.085102</td>\n",
       "      <td>-0.255425</td>\n",
       "      <td>...</td>\n",
       "      <td>-0.069083</td>\n",
       "      <td>-0.225775</td>\n",
       "      <td>-0.638672</td>\n",
       "      <td>0.101288</td>\n",
       "      <td>-0.339846</td>\n",
       "      <td>0.167170</td>\n",
       "      <td>0.125895</td>\n",
       "      <td>-0.008983</td>\n",
       "      <td>0.014724</td>\n",
       "      <td>2.69</td>\n",
       "    </tr>\n",
       "    <tr>\n",
       "      <th>2</th>\n",
       "      <td>1.0</td>\n",
       "      <td>-1.358354</td>\n",
       "      <td>-1.340163</td>\n",
       "      <td>1.773209</td>\n",
       "      <td>0.379780</td>\n",
       "      <td>-0.503198</td>\n",
       "      <td>1.800499</td>\n",
       "      <td>0.791461</td>\n",
       "      <td>0.247676</td>\n",
       "      <td>-1.514654</td>\n",
       "      <td>...</td>\n",
       "      <td>0.524980</td>\n",
       "      <td>0.247998</td>\n",
       "      <td>0.771679</td>\n",
       "      <td>0.909412</td>\n",
       "      <td>-0.689281</td>\n",
       "      <td>-0.327642</td>\n",
       "      <td>-0.139097</td>\n",
       "      <td>-0.055353</td>\n",
       "      <td>-0.059752</td>\n",
       "      <td>378.66</td>\n",
       "    </tr>\n",
       "    <tr>\n",
       "      <th>3</th>\n",
       "      <td>1.0</td>\n",
       "      <td>-0.966272</td>\n",
       "      <td>-0.185226</td>\n",
       "      <td>1.792993</td>\n",
       "      <td>-0.863291</td>\n",
       "      <td>-0.010309</td>\n",
       "      <td>1.247203</td>\n",
       "      <td>0.237609</td>\n",
       "      <td>0.377436</td>\n",
       "      <td>-1.387024</td>\n",
       "      <td>...</td>\n",
       "      <td>-0.208038</td>\n",
       "      <td>-0.108300</td>\n",
       "      <td>0.005274</td>\n",
       "      <td>-0.190321</td>\n",
       "      <td>-1.175575</td>\n",
       "      <td>0.647376</td>\n",
       "      <td>-0.221929</td>\n",
       "      <td>0.062723</td>\n",
       "      <td>0.061458</td>\n",
       "      <td>123.50</td>\n",
       "    </tr>\n",
       "    <tr>\n",
       "      <th>4</th>\n",
       "      <td>2.0</td>\n",
       "      <td>-1.158233</td>\n",
       "      <td>0.877737</td>\n",
       "      <td>1.548718</td>\n",
       "      <td>0.403034</td>\n",
       "      <td>-0.407193</td>\n",
       "      <td>0.095921</td>\n",
       "      <td>0.592941</td>\n",
       "      <td>-0.270533</td>\n",
       "      <td>0.817739</td>\n",
       "      <td>...</td>\n",
       "      <td>0.408542</td>\n",
       "      <td>-0.009431</td>\n",
       "      <td>0.798278</td>\n",
       "      <td>-0.137458</td>\n",
       "      <td>0.141267</td>\n",
       "      <td>-0.206010</td>\n",
       "      <td>0.502292</td>\n",
       "      <td>0.219422</td>\n",
       "      <td>0.215153</td>\n",
       "      <td>69.99</td>\n",
       "    </tr>\n",
       "  </tbody>\n",
       "</table>\n",
       "<p>5 rows × 30 columns</p>\n",
       "</div>"
      ],
      "text/plain": [
       "   Time        V1        V2        V3        V4        V5        V6        V7  \\\n",
       "0   0.0 -1.359807 -0.072781  2.536347  1.378155 -0.338321  0.462388  0.239599   \n",
       "1   0.0  1.191857  0.266151  0.166480  0.448154  0.060018 -0.082361 -0.078803   \n",
       "2   1.0 -1.358354 -1.340163  1.773209  0.379780 -0.503198  1.800499  0.791461   \n",
       "3   1.0 -0.966272 -0.185226  1.792993 -0.863291 -0.010309  1.247203  0.237609   \n",
       "4   2.0 -1.158233  0.877737  1.548718  0.403034 -0.407193  0.095921  0.592941   \n",
       "\n",
       "         V8        V9  ...       V20       V21       V22       V23       V24  \\\n",
       "0  0.098698  0.363787  ...  0.251412 -0.018307  0.277838 -0.110474  0.066928   \n",
       "1  0.085102 -0.255425  ... -0.069083 -0.225775 -0.638672  0.101288 -0.339846   \n",
       "2  0.247676 -1.514654  ...  0.524980  0.247998  0.771679  0.909412 -0.689281   \n",
       "3  0.377436 -1.387024  ... -0.208038 -0.108300  0.005274 -0.190321 -1.175575   \n",
       "4 -0.270533  0.817739  ...  0.408542 -0.009431  0.798278 -0.137458  0.141267   \n",
       "\n",
       "        V25       V26       V27       V28  Amount  \n",
       "0  0.128539 -0.189115  0.133558 -0.021053  149.62  \n",
       "1  0.167170  0.125895 -0.008983  0.014724    2.69  \n",
       "2 -0.327642 -0.139097 -0.055353 -0.059752  378.66  \n",
       "3  0.647376 -0.221929  0.062723  0.061458  123.50  \n",
       "4 -0.206010  0.502292  0.219422  0.215153   69.99  \n",
       "\n",
       "[5 rows x 30 columns]"
      ]
     },
     "execution_count": 3,
     "metadata": {},
     "output_type": "execute_result"
    }
   ],
   "source": [
    "# Define features by dropping the target column, Class\n",
    "X = df_fraud.copy()\n",
    "X.drop('Class', axis=1, inplace=True)\n",
    "X.head()"
   ]
  },
  {
   "cell_type": "code",
   "execution_count": 4,
   "id": "87d46993-af9e-4420-886e-63773fec5e30",
   "metadata": {},
   "outputs": [],
   "source": [
    "# Define target vector, which is the Class column\n",
    "y = df_fraud['Class']"
   ]
  },
  {
   "cell_type": "code",
   "execution_count": 5,
   "id": "624987d0-b998-4335-96ca-802c4e389aad",
   "metadata": {},
   "outputs": [
    {
     "data": {
      "text/plain": [
       "0    284315\n",
       "1       492\n",
       "Name: Class, dtype: int64"
      ]
     },
     "execution_count": 5,
     "metadata": {},
     "output_type": "execute_result"
    }
   ],
   "source": [
    "# List value counts for target vector (0 = not fraud; 1 = fraud)\n",
    "y.value_counts(normalize=False, sort=True, ascending=False, bins=None, dropna=True)"
   ]
  },
  {
   "cell_type": "code",
   "execution_count": 6,
   "id": "028f27c5-0b25-4f14-a10e-e44c218daa05",
   "metadata": {},
   "outputs": [],
   "source": [
    "# Splitting into train, test, and validation sets\n",
    "X_train, X_test, y_train, y_test = train_test_split(X, y, random_state=200)"
   ]
  },
  {
   "cell_type": "code",
   "execution_count": 7,
   "id": "b452c714-ce4e-4a47-bbea-75f80a7475ba",
   "metadata": {},
   "outputs": [],
   "source": [
    "# Scale data using RobustScaler\n",
    "scaler = RobustScaler()\n",
    "\n",
    "# Fit scaler with training data\n",
    "X_scaler = scaler.fit(X_train)\n",
    "\n",
    "# Scale the training data\n",
    "X_train_scaled = X_scaler.transform(X_train)\n",
    "X_test_scaled = X_scaler.transform(X_test)"
   ]
  },
  {
   "cell_type": "code",
   "execution_count": null,
   "id": "3caff94b-8d2f-49be-b29d-0ba222a5415b",
   "metadata": {},
   "outputs": [],
   "source": [
    "# Resample data using SMOTEEN combination sampler\n",
    "smoteenn = SMOTEENN(random_state=0)\n",
    "X_resampled, y_resampled = smoteenn.fit_resample(X_train_scaled, y_train)\n",
    "Counter(y_resampled)"
   ]
  },
  {
   "cell_type": "markdown",
   "id": "d2be0bcb-9c17-457a-b914-e97e4bba6685",
   "metadata": {},
   "source": [
    "## Decision Tree Model"
   ]
  },
  {
   "cell_type": "code",
   "execution_count": null,
   "id": "e07d2bff-4465-46f1-8e9c-792af9f5375b",
   "metadata": {},
   "outputs": [],
   "source": [
    "# Create the decision tree modelinstance, fit the model, and make predictions\n",
    "dt_model = tree.DecisionTreeClassifier()\n",
    "dt_model = dt_model.fit(X_resampled, y_train)\n",
    "dt_predictions = dt_model.predict(X_test_scaled)"
   ]
  },
  {
   "cell_type": "code",
   "execution_count": null,
   "id": "af90f29a-6d61-437a-a093-ccf281bf0590",
   "metadata": {},
   "outputs": [],
   "source": [
    "# Evaluate the decision tree model using the confusion matrix\n",
    "dt_cm = confusion_matrix(y_test, dt_predictions)\n",
    "\n",
    "# Display confusion matrix\n",
    "print(\"Decision Tree Confusion Matrix\")\n",
    "disp = ConfusionMatrixDisplay(confusion_matrix=dt_cm, display_labels=dt_model.classes_)\n",
    "disp.plot()"
   ]
  },
  {
   "cell_type": "code",
   "execution_count": null,
   "id": "fdd24e4a-605b-43eb-81dd-cd01ebad0f5f",
   "metadata": {},
   "outputs": [],
   "source": [
    "# Calculate the accuracy score and AUC\n",
    "dt_acc_score = accuracy_score(y_test, dt_predictions)\n",
    "dt_auc = roc_auc_score(y_test, dt_predictions)\n",
    "\n",
    "# Print the metrics\n",
    "print(f\"Decision Tree Accuracy Score : {dt_acc_score}\")\n",
    "print(f\"Decision Tree AUC : {dt_auc}\")\n",
    "print(\"Decision Tree Classification Report\")\n",
    "print(classification_report(y_test, dt_predictions))"
   ]
  },
  {
   "cell_type": "code",
   "execution_count": null,
   "id": "42fef0ff-2ebd-483f-9541-f2a2562df431",
   "metadata": {},
   "outputs": [],
   "source": [
    "# Print imbalanced classification report\n",
    "print(classification_report_imbalanced(y_test, dt_predictions))"
   ]
  },
  {
   "cell_type": "code",
   "execution_count": null,
   "id": "a90bf41e-cffc-4b96-9ad5-defd566a6d92",
   "metadata": {},
   "outputs": [],
   "source": [
    "# Plot decision tree ROC with AUC value shown\n",
    "RocCurveDisplay.from_predictions(y_test, dt_predictions, name='Decision Tree')\n",
    "plt.show()"
   ]
  },
  {
   "cell_type": "code",
   "execution_count": null,
   "id": "80c33dc4-5192-4fb4-9805-4104f7bea768",
   "metadata": {},
   "outputs": [],
   "source": [
    "# Plot decision tree precision-recall curve\n",
    "PrecisionRecallDisplay.from_predictions(y_test, dt_predictions, name='Decision Tree')\n",
    "plt.show()"
   ]
  },
  {
   "cell_type": "code",
   "execution_count": null,
   "id": "47f8638e-be76-427c-be52-6b01d0c41d67",
   "metadata": {},
   "outputs": [],
   "source": [
    "# Visualize the decision tree\n",
    "# Create DOT data\n",
    "dot_data = tree.export_graphviz(\n",
    "    dt_model, out_file=None, feature_names=X.columns, class_names=[\"0\", \"1\"], filled=True\n",
    ")\n",
    "\n",
    "# Draw graph\n",
    "graph = pydotplus.graph_from_dot_data(dot_data)\n",
    "\n",
    "# Show graph\n",
    "Image(graph.create_png())"
   ]
  },
  {
   "cell_type": "markdown",
   "id": "becc1e28-2e09-4c3e-8cf3-a08145d9c9f9",
   "metadata": {},
   "source": [
    "## Gradient Boosting Model"
   ]
  },
  {
   "cell_type": "code",
   "execution_count": null,
   "id": "8ae87038-bd39-43bd-a541-b4328932da51",
   "metadata": {},
   "outputs": [],
   "source": [
    "# Choose optimal learning rate\n",
    "# Create gradeint boosting model object\n",
    "learning_rates = [0.05, 0.1, 0.25, 0.5, 0.75, 1]\n",
    "for learning_rate in learning_rates:\n",
    "    model = GradientBoostingClassifier(\n",
    "        n_estimators=100,\n",
    "        learning_rate=learning_rate,\n",
    "        max_features=2,\n",
    "        max_depth=3,\n",
    "        random_state=0\n",
    "    )\n",
    "\n",
    "# Fit the model\n",
    "    model.fit(X_resampled, y_train.ravel())\n",
    "\n",
    "# Print learning rates and model scores\n",
    "    print(\"Learning rate: \", learning_rate)\n",
    "    print(\"Accuracy score (training): {0:.3f}\".format(\n",
    "        model.score(\n",
    "            X_resampled,\n",
    "            y_train.ravel())))\n",
    "    print(\"Accuracy score (validation): {0:.3f}\".format(\n",
    "        model.score(\n",
    "            X_resampled,\n",
    "            y_test.ravel())))\n",
    "    print()"
   ]
  },
  {
   "cell_type": "code",
   "execution_count": null,
   "id": "f4e6571f-fe4c-4e7e-a1a8-e835403f6760",
   "metadata": {},
   "outputs": [],
   "source": [
    "# Create model using the learning rate wtih the best accuracy score\n",
    "gb_model = GradientBoostingClassifier(\n",
    "    n_estimators=100,\n",
    "    learning_rate=0.1,\n",
    "    max_features=2,\n",
    "    max_depth=3,\n",
    "    random_state=0\n",
    ")\n",
    "\n",
    "# Fit the model\n",
    "gb_model.fit(X_resampled, y_train.ravel())\n",
    "\n",
    "# Make predictions\n",
    "gb_predictions = gb_model.predict(X_test_scaled)"
   ]
  },
  {
   "cell_type": "code",
   "execution_count": null,
   "id": "d1a1a533-abcd-4384-818f-157e3222a910",
   "metadata": {},
   "outputs": [],
   "source": [
    "# Evaluate the gradient boosting model using the confusion matrix\n",
    "gb_cm = confusion_matrix(y_test, gb_predictions)\n",
    "\n",
    "# Display confusion matrix\n",
    "print(\"Gradient Boosting Confusion Matrix\")\n",
    "disp = ConfusionMatrixDisplay(confusion_matrix=gb_cm, display_labels=gb_model.classes_)\n",
    "disp.plot()"
   ]
  },
  {
   "cell_type": "code",
   "execution_count": null,
   "id": "719bcdda-1eee-45c6-9017-a4b31f164085",
   "metadata": {},
   "outputs": [],
   "source": [
    "# Calculate the gradient boosting accuracy score and AUC\n",
    "gb_acc_score = accuracy_score(y_test, gb_predictions)\n",
    "gb_auc = roc_auc_score(y_test, gb_predictions)\n",
    "\n",
    "# Print the metrics\n",
    "print(f\"Gradient Boosting Accuracy Score : {gb_acc_score}\")\n",
    "print(f\"Gradient Boosting AUC : {gb_auc}\")\n",
    "print(\"Gradient Boosting Classification Report\")\n",
    "print(classification_report(y_test, gb_predictions))"
   ]
  },
  {
   "cell_type": "code",
   "execution_count": null,
   "id": "f2fa715e-9715-438c-9dba-6f69f6038a0e",
   "metadata": {},
   "outputs": [],
   "source": [
    "# Print imbalanced classification report\n",
    "print(classification_report_imbalanced(y_test, gb_predictions))"
   ]
  },
  {
   "cell_type": "code",
   "execution_count": null,
   "id": "7b434539-139b-4f10-b7ff-ac12c6801ad6",
   "metadata": {},
   "outputs": [],
   "source": [
    "# Plot Gradient Boosting ROC with AUC value shown\n",
    "RocCurveDisplay.from_predictions(y_test, gb_predictions, name='Gradient Boosting')\n",
    "plt.show()"
   ]
  },
  {
   "cell_type": "code",
   "execution_count": null,
   "id": "7fca8037-7ff9-404f-bb5e-039fec474445",
   "metadata": {},
   "outputs": [],
   "source": [
    "# Plot gradient boosting precision-recall curve\n",
    "PrecisionRecallDisplay.from_predictions(y_test, gb_predictions, name='Gradient Boosting')\n",
    "plt.show()"
   ]
  },
  {
   "cell_type": "markdown",
   "id": "73e1d1dc-5098-4837-bb02-9bcd53d1ffc4",
   "metadata": {},
   "source": [
    "## Random Forest Model"
   ]
  },
  {
   "cell_type": "code",
   "execution_count": null,
   "id": "ec1279a9-d8c2-4649-8693-762c64972feb",
   "metadata": {},
   "outputs": [],
   "source": [
    "# Create a random forest model, fit the model, and make predictions\n",
    "rf_model = RandomForestClassifier(n_estimators=500, random_state=78)\n",
    "rf_model = rf_model.fit(X_resampled, y_train)\n",
    "rf_predictions = rf_model.predict(X_test_scaled)"
   ]
  },
  {
   "cell_type": "code",
   "execution_count": null,
   "id": "151e6386-0f89-4ee5-bbe1-1f96e1672ad5",
   "metadata": {},
   "outputs": [],
   "source": [
    "# Create the random forest model instance, fit the model, and make predictions\n",
    "rf_model = RandomForestClassifier(n_estimators=500, random_state=78)\n",
    "rf_model = rf_model.fit(X_train_scaled, y_train)\n",
    "rf_predictions = rf_model.predict(X_test_scaled)"
   ]
  },
  {
   "cell_type": "code",
   "execution_count": null,
   "id": "afe9ea58-dd4b-48c1-8ed9-ab6352bbd722",
   "metadata": {},
   "outputs": [],
   "source": [
    "# Evaluate the random forest model using the confusion matrix\n",
    "rf_cm = confusion_matrix(y_test, rf_predictions)\n",
    "\n",
    "# Display confusion matrix\n",
    "print(\"Randome Foest Confusion Matrix\")\n",
    "disp = ConfusionMatrixDisplay(confusion_matrix=rf_cm, display_labels=rf_model.classes_)\n",
    "disp.plot()"
   ]
  },
  {
   "cell_type": "code",
   "execution_count": null,
   "id": "c2ab397c-008f-42bf-b50c-8c769bd10e5c",
   "metadata": {},
   "outputs": [],
   "source": [
    "# Calculate the random foreast accuracy score and AUC\n",
    "rf_acc_score = accuracy_score(y_test, rf_predictions)\n",
    "rf_auc = roc_auc_score(y_test, rf_predictions)\n",
    "\n",
    "# Print the metrics\n",
    "print(f\"Random Forest Accuracy Score : {rf_acc_score}\")\n",
    "print(f\"Random Forest AUC : {rf_auc}\")\n",
    "print(\"Random Forest Classification Report\")\n",
    "print(classification_report(y_test, rf_predictions))"
   ]
  },
  {
   "cell_type": "code",
   "execution_count": null,
   "id": "ac006475-0a85-41da-80f2-7f0c2a430ae8",
   "metadata": {},
   "outputs": [],
   "source": [
    "# Plot random forest ROC with AUC value shown\n",
    "RocCurveDisplay.from_predictions(y_test, rf_predictions, name='Random Forest')\n",
    "plt.show()"
   ]
  },
  {
   "cell_type": "code",
   "execution_count": null,
   "id": "e9b66e57-b958-45f0-90a7-a293745e0257",
   "metadata": {},
   "outputs": [],
   "source": [
    "# Plot random forest precision-recall curve\n",
    "PrecisionRecallDisplay.from_predictions(y_test, rf_predictions, name='Random Forest')\n",
    "plt.show()"
   ]
  },
  {
   "cell_type": "code",
   "execution_count": null,
   "id": "66f030c3-5a88-4b90-818d-8f5dc85bde75",
   "metadata": {},
   "outputs": [],
   "source": [
    "# Print imbalanced classification report\n",
    "print(classification_report_imbalanced(y_test, rf_predictions))"
   ]
  },
  {
   "cell_type": "code",
   "execution_count": null,
   "id": "46181546-456f-4d91-a78a-8b8adf49646f",
   "metadata": {},
   "outputs": [],
   "source": [
    "# Fetch the freatures importance and display the top 10 most important features\n",
    "importances = rf_model.feature_importances_\n",
    "importances_sorted = sorted(zip(rf_model.feature_importances_, X.columns), reverse=True)\n",
    "importances_sorted[:10]"
   ]
  },
  {
   "cell_type": "code",
   "execution_count": null,
   "id": "016da09f-d092-450a-be6e-3097b5ea7ddf",
   "metadata": {},
   "outputs": [],
   "source": [
    "# Visualize the features by importance\n",
    "importances_df = pd.DataFrame(sorted(zip(rf_model.feature_importances_, X.columns), reverse=True))\n",
    "importances_df.set_index(importances_df[1], inplace=True)\n",
    "importances_df.drop(columns=1, inplace=True)\n",
    "importances_df.rename(columns={0: 'Feature Importances'}, inplace=True)\n",
    "importances_sorted = importances_df.sort_values(by='Feature Importances')\n",
    "importances_sorted.plot(kind='barh', color='lightgreen', title= 'Features Importances', legend=False, figsize=(10,5))\n"
   ]
  },
  {
   "cell_type": "markdown",
   "id": "d85b44e5-c3a8-4685-b2af-b3ff23dd03ed",
   "metadata": {},
   "source": [
    "## Bagging Classifier Model"
   ]
  },
  {
   "cell_type": "code",
   "execution_count": null,
   "id": "0e89d194-61b5-4d7d-9ae9-1ca32b849f5f",
   "metadata": {},
   "outputs": [],
   "source": [
    "# Create the bagging classifier model instance, fit the model, and make predictions\n",
    "bag_model = BaggingClassifier(base_estimator=SVC(), n_estimators=100, random_state=1)\n",
    "bag_model = bag_model.fit(X_resampled, y_train)\n",
    "bag_predictions = bag_model.predict(X_test_scaled)"
   ]
  },
  {
   "cell_type": "code",
   "execution_count": null,
   "id": "f50b1b45-8296-4259-9ea2-b5eadbefe78d",
   "metadata": {},
   "outputs": [],
   "source": [
    "# Evaluate the bagging classifier model using the confusion matrix\n",
    "bag_cm = confusion_matrix(y_test, rf_predictions)\n",
    "\n",
    "# Display confusion matrix\n",
    "print(\"Bagging Classifier Confusion Matrix\")\n",
    "disp = ConfusionMatrixDisplay(confusion_matrix=bag_cm, display_labels=bag_model.classes_)\n",
    "disp.plot()"
   ]
  },
  {
   "cell_type": "code",
   "execution_count": null,
   "id": "8648855c-204d-4457-a9e2-6bbcdb284285",
   "metadata": {},
   "outputs": [],
   "source": [
    "# Calculate the bagging classifier accuracy score and AUC\n",
    "bag_acc_score = accuracy_score(y_test, bag_predictions)\n",
    "bag_auc = roc_auc_score(y_test, bag_predictions)\n",
    "\n",
    "# Print the metrics\n",
    "print(f\"Bagging Classifier Accuracy Score : {bag_acc_score}\")\n",
    "print(f\"Easy Ensemble AUC : {bag_auc}\")\n",
    "print(\"Bagging Classifier Classification Report\")\n",
    "print(classification_report(y_test, bag_predictions))"
   ]
  },
  {
   "cell_type": "code",
   "execution_count": null,
   "id": "018f4e7c-95e3-4787-949f-6071b00a5f42",
   "metadata": {},
   "outputs": [],
   "source": [
    "# Print imbalanced classification report\n",
    "print(classification_report_imbalanced(y_test, bag_predictions))"
   ]
  },
  {
   "cell_type": "code",
   "execution_count": null,
   "id": "dbdcf56d-1ffd-4a8d-9a76-e1337cd2bebe",
   "metadata": {},
   "outputs": [],
   "source": [
    "# Plot bagging classifier ROC with AUC value shown\n",
    "RocCurveDisplay.from_predictions(y_test, bag_predictions, name='Bagging Classifier')\n",
    "plt.show()"
   ]
  },
  {
   "cell_type": "code",
   "execution_count": null,
   "id": "5acbd642-9f8c-459a-bc91-48e1b377fbb2",
   "metadata": {},
   "outputs": [],
   "source": [
    "# Plot bagging classifier precision-recall curve\n",
    "PrecisionRecallDisplay.from_predictions(y_test, bag_predictions, name='Bagging Classifier')\n",
    "plt.show()"
   ]
  },
  {
   "cell_type": "markdown",
   "id": "b8583b11-47ea-4a12-90cb-8d7f97a77481",
   "metadata": {},
   "source": [
    "## XGBoost (Extreme Gradient Boosting) Model"
   ]
  },
  {
   "cell_type": "code",
   "execution_count": null,
   "id": "277c2f69-9ede-4c1c-a39e-e6e4a0f7c64d",
   "metadata": {},
   "outputs": [],
   "source": [
    "# Create the XGBoost model instance, fit the model, and make predictions\n",
    "xgb_model = XGBClassifier(max_depth=4, use_label_encoder=False)\n",
    "xgb_model.fit(X_resampled, y_train)\n",
    "xgb_predictions = xgb_model.predict(X_test_scaled)"
   ]
  },
  {
   "cell_type": "code",
   "execution_count": null,
   "id": "daa328ab-7eb2-4bfc-83b5-95d61a7004b2",
   "metadata": {},
   "outputs": [],
   "source": [
    "# Evaluate the XGBoost model using the confusion matrix\n",
    "xgb_cm = confusion_matrix(y_test, xgb_predictions)\n",
    "\n",
    "# Display confusion matrix\n",
    "print(\"XGBoost Confusion Matrix\")\n",
    "disp = ConfusionMatrixDisplay(confusion_matrix=xgb_cm, display_labels=xgb_model.classes_)\n",
    "disp.plot()"
   ]
  },
  {
   "cell_type": "code",
   "execution_count": null,
   "id": "576a54b0-b8a0-4109-a40b-5ac4846dcf56",
   "metadata": {},
   "outputs": [],
   "source": [
    "# Calculate the XGBoost accuracy score and AUC\n",
    "xgb_acc_score = accuracy_score(y_test, xgb_predictions)\n",
    "xgb_auc = roc_auc_score(y_test, xgb_predictions)\n",
    "\n",
    "# Print the metrics\n",
    "print(f\"XGBoost Accuracy Score : {xgb_acc_score}\")\n",
    "print(f\"XGBoost AUC : {xgb_auc}\")\n",
    "print(\"XGBoost Classification Report\")\n",
    "print(classification_report(y_test, xgb_predictions))"
   ]
  },
  {
   "cell_type": "code",
   "execution_count": null,
   "id": "4a2540c5-107c-4b82-a229-a37ac98d2e61",
   "metadata": {},
   "outputs": [],
   "source": [
    "# Print imbalanced classification report\n",
    "print(classification_report_imbalanced(y_test, xgb_predictions))"
   ]
  },
  {
   "cell_type": "code",
   "execution_count": null,
   "id": "331f7f26-a9fd-417f-9203-acd3901cb6b0",
   "metadata": {},
   "outputs": [],
   "source": [
    "# Plot XGBoost ROC with AUC value shown\n",
    "RocCurveDisplay.from_predictions(y_test, xgb_predictions, name='XGBoost')\n",
    "plt.show()"
   ]
  },
  {
   "cell_type": "code",
   "execution_count": null,
   "id": "242cb7ef-a410-4627-9376-55eaea1bd10f",
   "metadata": {},
   "outputs": [],
   "source": [
    "# Plot XGBoost precision-recall curve\n",
    "PrecisionRecallDisplay.from_predictions(y_test, xgb_predictions, name='XGBoost')\n",
    "plt.show()"
   ]
  }
 ],
 "metadata": {
  "kernelspec": {
   "display_name": "Python 3",
   "language": "python",
   "name": "python3"
  },
  "language_info": {
   "codemirror_mode": {
    "name": "ipython",
    "version": 3
   },
   "file_extension": ".py",
   "mimetype": "text/x-python",
   "name": "python",
   "nbconvert_exporter": "python",
   "pygments_lexer": "ipython3",
   "version": "3.8.11"
  }
 },
 "nbformat": 4,
 "nbformat_minor": 5
}
